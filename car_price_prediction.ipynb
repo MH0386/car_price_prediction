{
 "metadata": {
  "kernelspec": {
   "language": "python",
   "display_name": "Python 3",
   "name": "python3"
  },
  "language_info": {
   "name": "python",
   "version": "3.10.10",
   "mimetype": "text/x-python",
   "codemirror_mode": {
    "name": "ipython",
    "version": 3
   },
   "pygments_lexer": "ipython3",
   "nbconvert_exporter": "python",
   "file_extension": ".py"
  }
 },
 "nbformat_minor": 4,
 "nbformat": 4,
 "cells": [
  {
   "cell_type": "markdown",
   "source": "# [Presentation](https://tome.app/mh0386/revving-up-the-future-ai-powered-used-car-price-predictions-clgtjqlbx17hp1u41lb7yr442)",
   "metadata": {
    "papermill": {
     "duration": 0.015111,
     "end_time": "2023-04-25T22:02:43.340785",
     "exception": false,
     "start_time": "2023-04-25T22:02:43.325674",
     "status": "completed"
    },
    "tags": []
   }
  },
  {
   "cell_type": "code",
   "source": "import numpy as np\nimport pandas as pd\nimport seaborn as sns\nimport matplotlib.pyplot as plt\nfrom sklearn import preprocessing\nfrom sklearn.utils import shuffle\nfrom sklearn.linear_model import LinearRegression\nfrom sklearn.model_selection import train_test_split\nfrom sklearn.metrics import r2_score, mean_squared_error, mean_absolute_error, mean_absolute_percentage_error\nfrom sklearn.preprocessing import PolynomialFeatures",
   "metadata": {
    "_cell_guid": "b1076dfc-b9ad-4769-8c92-a6c4dae69d19",
    "_uuid": "8f2839f25d086af736a60e9eeb907d3b93b6e0e5",
    "papermill": {
     "duration": 1.475497,
     "end_time": "2023-04-25T22:02:44.830044",
     "exception": false,
     "start_time": "2023-04-25T22:02:43.354547",
     "status": "completed"
    },
    "tags": [],
    "execution": {
     "iopub.status.busy": "2023-05-02T13:43:06.493993Z",
     "iopub.execute_input": "2023-05-02T13:43:06.494650Z",
     "iopub.status.idle": "2023-05-02T13:43:06.503411Z",
     "shell.execute_reply.started": "2023-05-02T13:43:06.494596Z",
     "shell.execute_reply": "2023-05-02T13:43:06.501813Z"
    },
    "trusted": true,
    "is_executing": true
   },
   "execution_count": null,
   "outputs": []
  },
  {
   "cell_type": "markdown",
   "source": "# Data",
   "metadata": {
    "papermill": {
     "duration": 0.013238,
     "end_time": "2023-04-25T22:02:44.857157",
     "exception": false,
     "start_time": "2023-04-25T22:02:44.843919",
     "status": "completed"
    },
    "tags": []
   }
  },
  {
   "cell_type": "markdown",
   "source": "## Read Data",
   "metadata": {}
  },
  {
   "cell_type": "code",
   "source": "try:\n    data = pd.read_csv('/kaggle/input/cars-dataset-audi-bmw-ford-hyundai-skoda-vw/cars_dataset.csv')\nexcept FileNotFoundError:\n    data = pd.read_csv('cars_dataset.csv')\ndata",
   "metadata": {
    "papermill": {
     "duration": 0.259077,
     "end_time": "2023-04-25T22:02:45.130975",
     "exception": false,
     "start_time": "2023-04-25T22:02:44.871898",
     "status": "completed"
    },
    "scrolled": true,
    "tags": [],
    "execution": {
     "iopub.status.busy": "2023-05-02T13:41:13.167047Z",
     "iopub.execute_input": "2023-05-02T13:41:13.167397Z",
     "iopub.status.idle": "2023-05-02T13:41:13.437516Z",
     "shell.execute_reply.started": "2023-05-02T13:41:13.167367Z",
     "shell.execute_reply": "2023-05-02T13:41:13.436679Z"
    },
    "trusted": true,
    "is_executing": true
   },
   "execution_count": null,
   "outputs": []
  },
  {
   "cell_type": "markdown",
   "source": "## Info",
   "metadata": {}
  },
  {
   "cell_type": "code",
   "source": "data.info()",
   "metadata": {
    "papermill": {
     "duration": 0.056398,
     "end_time": "2023-04-25T22:02:45.201376",
     "exception": false,
     "start_time": "2023-04-25T22:02:45.144978",
     "status": "completed"
    },
    "tags": [],
    "execution": {
     "iopub.status.busy": "2023-05-02T13:42:57.336785Z",
     "iopub.execute_input": "2023-05-02T13:42:57.337247Z",
     "iopub.status.idle": "2023-05-02T13:42:57.415494Z",
     "shell.execute_reply.started": "2023-05-02T13:42:57.337208Z",
     "shell.execute_reply": "2023-05-02T13:42:57.414160Z"
    },
    "trusted": true,
    "is_executing": true
   },
   "execution_count": null,
   "outputs": []
  },
  {
   "cell_type": "markdown",
   "source": "## Describe",
   "metadata": {}
  },
  {
   "cell_type": "code",
   "source": "data.describe()",
   "metadata": {
    "collapsed": false,
    "jupyter": {
     "outputs_hidden": false
    },
    "papermill": {
     "duration": 0.066272,
     "end_time": "2023-04-25T22:02:45.282241",
     "exception": false,
     "start_time": "2023-04-25T22:02:45.215969",
     "status": "completed"
    },
    "tags": [],
    "execution": {
     "iopub.status.busy": "2023-04-26T01:51:57.1137Z",
     "iopub.execute_input": "2023-04-26T01:51:57.114791Z",
     "iopub.status.idle": "2023-04-26T01:51:57.16788Z",
     "shell.execute_reply.started": "2023-04-26T01:51:57.114722Z",
     "shell.execute_reply": "2023-04-26T01:51:57.166691Z"
    },
    "trusted": true,
    "is_executing": true
   },
   "execution_count": null,
   "outputs": []
  },
  {
   "cell_type": "markdown",
   "source": "## Nulls",
   "metadata": {
    "papermill": {
     "duration": 0.013866,
     "end_time": "2023-04-25T22:02:45.310782",
     "exception": false,
     "start_time": "2023-04-25T22:02:45.296916",
     "status": "completed"
    },
    "tags": []
   }
  },
  {
   "cell_type": "code",
   "source": "data.isnull().sum()",
   "metadata": {
    "papermill": {
     "duration": 0.043037,
     "end_time": "2023-04-25T22:02:45.368315",
     "exception": false,
     "start_time": "2023-04-25T22:02:45.325278",
     "status": "completed"
    },
    "tags": [],
    "execution": {
     "iopub.status.busy": "2023-04-26T01:51:57.169561Z",
     "iopub.execute_input": "2023-04-26T01:51:57.170708Z",
     "iopub.status.idle": "2023-04-26T01:51:57.206366Z",
     "shell.execute_reply.started": "2023-04-26T01:51:57.17066Z",
     "shell.execute_reply": "2023-04-26T01:51:57.205209Z"
    },
    "trusted": true,
    "is_executing": true
   },
   "execution_count": null,
   "outputs": []
  },
  {
   "cell_type": "markdown",
   "source": "## Data Columns",
   "metadata": {}
  },
  {
   "cell_type": "code",
   "source": "data.columns",
   "metadata": {
    "collapsed": false,
    "jupyter": {
     "outputs_hidden": false
    },
    "papermill": {
     "duration": 0.025265,
     "end_time": "2023-04-25T22:02:45.407836",
     "exception": false,
     "start_time": "2023-04-25T22:02:45.382571",
     "status": "completed"
    },
    "tags": [],
    "execution": {
     "iopub.status.busy": "2023-05-02T13:45:30.989372Z",
     "iopub.execute_input": "2023-05-02T13:45:30.989843Z",
     "iopub.status.idle": "2023-05-02T13:45:30.998580Z",
     "shell.execute_reply.started": "2023-05-02T13:45:30.989807Z",
     "shell.execute_reply": "2023-05-02T13:45:30.997444Z"
    },
    "trusted": true,
    "is_executing": true
   },
   "execution_count": null,
   "outputs": []
  },
  {
   "cell_type": "markdown",
   "source": "# Draw",
   "metadata": {
    "papermill": {
     "duration": 0.013845,
     "end_time": "2023-04-25T22:02:45.436375",
     "exception": false,
     "start_time": "2023-04-25T22:02:45.42253",
     "status": "completed"
    },
    "tags": []
   }
  },
  {
   "cell_type": "code",
   "source": [
    "a = sns.pairplot(data)\n",
    "type(a)"
   ],
   "metadata": {
    "execution": {
     "iopub.status.busy": "2023-05-02T13:46:19.153216Z",
     "iopub.execute_input": "2023-05-02T13:46:19.153620Z",
     "iopub.status.idle": "2023-05-02T13:46:38.570122Z",
     "shell.execute_reply.started": "2023-05-02T13:46:19.153576Z",
     "shell.execute_reply": "2023-05-02T13:46:38.568682Z"
    },
    "trusted": true,
    "is_executing": true
   },
   "execution_count": null,
   "outputs": []
  },
  {
   "cell_type": "markdown",
   "source": "## Histograms",
   "metadata": {}
  },
  {
   "cell_type": "code",
   "source": "for col in data.columns:\n    if col == 'model':\n        fig, ax = plt.subplots(figsize=(30, 10))\n    else:\n        fig, ax = plt.subplots(figsize=(20, 10))\n    ax.tick_params(axis='x', rotation=90)\n    plt.title(f'{col} histogram')\n    sns.histplot(data=data, x=col, ax=ax)\n    plt.show()",
   "metadata": {
    "papermill": {
     "duration": 7.889933,
     "end_time": "2023-04-25T22:02:53.340529",
     "exception": false,
     "start_time": "2023-04-25T22:02:45.450596",
     "status": "completed"
    },
    "tags": [],
    "execution": {
     "iopub.status.busy": "2023-04-26T17:00:07.065344Z",
     "iopub.execute_input": "2023-04-26T17:00:07.065778Z",
     "iopub.status.idle": "2023-04-26T17:00:15.556934Z",
     "shell.execute_reply.started": "2023-04-26T17:00:07.065742Z",
     "shell.execute_reply": "2023-04-26T17:00:15.555472Z"
    },
    "trusted": true,
    "is_executing": true
   },
   "execution_count": null,
   "outputs": []
  },
  {
   "cell_type": "markdown",
   "source": "## Heatmap",
   "metadata": {}
  },
  {
   "cell_type": "code",
   "source": "sns.heatmap(data.corr(), annot=True)",
   "metadata": {
    "collapsed": false,
    "jupyter": {
     "outputs_hidden": false
    },
    "execution": {
     "iopub.status.busy": "2023-04-26T01:51:58.67749Z",
     "iopub.status.idle": "2023-04-26T01:51:58.678172Z",
     "shell.execute_reply.started": "2023-04-26T01:51:58.677821Z",
     "shell.execute_reply": "2023-04-26T01:51:58.677857Z"
    },
    "trusted": true,
    "is_executing": true
   },
   "execution_count": null,
   "outputs": []
  },
  {
   "cell_type": "code",
   "source": "def standardize(x):\n    return (x - np.mean(x)) / np.std(x)",
   "metadata": {
    "papermill": {
     "duration": 0.030981,
     "end_time": "2023-04-25T22:02:53.392727",
     "exception": false,
     "start_time": "2023-04-25T22:02:53.361746",
     "status": "completed"
    },
    "tags": [],
    "execution": {
     "iopub.status.busy": "2023-04-26T01:51:58.679599Z",
     "iopub.status.idle": "2023-04-26T01:51:58.680156Z",
     "shell.execute_reply.started": "2023-04-26T01:51:58.67987Z",
     "shell.execute_reply": "2023-04-26T01:51:58.679911Z"
    },
    "trusted": true,
    "is_executing": true
   },
   "execution_count": null,
   "outputs": []
  },
  {
   "cell_type": "code",
   "source": "data.model = preprocessing.LabelEncoder().fit_transform(data.model)\ndata.transmission = preprocessing.LabelEncoder().fit_transform(data.transmission)\ndata.fuelType = preprocessing.LabelEncoder().fit_transform(data.fuelType)\ndata.Make = preprocessing.LabelEncoder().fit_transform(data.Make)\ndata",
   "metadata": {
    "papermill": {
     "duration": 0.123087,
     "end_time": "2023-04-25T22:02:53.536878",
     "exception": false,
     "start_time": "2023-04-25T22:02:53.413791",
     "status": "completed"
    },
    "tags": [],
    "execution": {
     "iopub.status.busy": "2023-04-26T01:51:58.68156Z",
     "iopub.status.idle": "2023-04-26T01:51:58.682201Z",
     "shell.execute_reply.started": "2023-04-26T01:51:58.681997Z",
     "shell.execute_reply": "2023-04-26T01:51:58.68202Z"
    },
    "trusted": true,
    "is_executing": true
   },
   "execution_count": null,
   "outputs": []
  },
  {
   "cell_type": "markdown",
   "source": "",
   "metadata": {}
  },
  {
   "cell_type": "code",
   "source": "data.mileage = standardize(data.mileage)\ndata",
   "metadata": {
    "papermill": {
     "duration": 0.047413,
     "end_time": "2023-04-25T22:02:53.605331",
     "exception": false,
     "start_time": "2023-04-25T22:02:53.557918",
     "status": "completed"
    },
    "tags": [],
    "execution": {
     "iopub.status.busy": "2023-04-26T01:51:58.683402Z",
     "iopub.status.idle": "2023-04-26T01:51:58.683942Z",
     "shell.execute_reply.started": "2023-04-26T01:51:58.683675Z",
     "shell.execute_reply": "2023-04-26T01:51:58.683704Z"
    },
    "trusted": true,
    "is_executing": true
   },
   "execution_count": null,
   "outputs": []
  },
  {
   "cell_type": "code",
   "source": "data.describe()",
   "metadata": {
    "papermill": {
     "duration": 0.08977,
     "end_time": "2023-04-25T22:02:53.71662",
     "exception": false,
     "start_time": "2023-04-25T22:02:53.62685",
     "status": "completed"
    },
    "tags": [],
    "execution": {
     "iopub.status.busy": "2023-04-26T01:51:58.685289Z",
     "iopub.status.idle": "2023-04-26T01:51:58.685744Z",
     "shell.execute_reply.started": "2023-04-26T01:51:58.685541Z",
     "shell.execute_reply": "2023-04-26T01:51:58.685564Z"
    },
    "trusted": true,
    "is_executing": true
   },
   "execution_count": null,
   "outputs": []
  },
  {
   "cell_type": "markdown",
   "source": "# Split Data into X and y",
   "metadata": {
    "papermill": {
     "duration": 0.0213,
     "end_time": "2023-04-25T22:02:53.759808",
     "exception": false,
     "start_time": "2023-04-25T22:02:53.738508",
     "status": "completed"
    },
    "tags": []
   }
  },
  {
   "cell_type": "code",
   "source": "data = shuffle(data)\ny = data.price\ndata.drop('price', axis=1, inplace=True)\nX = data",
   "metadata": {
    "collapsed": false,
    "jupyter": {
     "outputs_hidden": false
    },
    "papermill": {
     "duration": 0.040869,
     "end_time": "2023-04-25T22:02:53.822143",
     "exception": false,
     "start_time": "2023-04-25T22:02:53.781274",
     "status": "completed"
    },
    "tags": [],
    "execution": {
     "iopub.status.busy": "2023-04-26T01:51:58.687144Z",
     "iopub.status.idle": "2023-04-26T01:51:58.687635Z",
     "shell.execute_reply.started": "2023-04-26T01:51:58.687408Z",
     "shell.execute_reply": "2023-04-26T01:51:58.687437Z"
    },
    "trusted": true,
    "is_executing": true
   },
   "execution_count": null,
   "outputs": []
  },
  {
   "cell_type": "markdown",
   "source": "## Features",
   "metadata": {}
  },
  {
   "cell_type": "code",
   "source": "X",
   "metadata": {
    "collapsed": false,
    "jupyter": {
     "outputs_hidden": false
    },
    "papermill": {
     "duration": 0.046886,
     "end_time": "2023-04-25T22:02:53.890717",
     "exception": false,
     "start_time": "2023-04-25T22:02:53.843831",
     "status": "completed"
    },
    "tags": [],
    "execution": {
     "iopub.status.busy": "2023-04-26T01:51:58.693629Z",
     "iopub.status.idle": "2023-04-26T01:51:58.694684Z",
     "shell.execute_reply.started": "2023-04-26T01:51:58.694344Z",
     "shell.execute_reply": "2023-04-26T01:51:58.69439Z"
    },
    "trusted": true,
    "is_executing": true
   },
   "execution_count": null,
   "outputs": []
  },
  {
   "cell_type": "markdown",
   "source": "## Labels",
   "metadata": {}
  },
  {
   "cell_type": "code",
   "source": "y",
   "metadata": {
    "collapsed": false,
    "jupyter": {
     "outputs_hidden": false
    },
    "papermill": {
     "duration": 0.035561,
     "end_time": "2023-04-25T22:02:53.949491",
     "exception": false,
     "start_time": "2023-04-25T22:02:53.91393",
     "status": "completed"
    },
    "tags": [],
    "execution": {
     "iopub.status.busy": "2023-04-26T01:51:58.696394Z",
     "iopub.status.idle": "2023-04-26T01:51:58.697319Z",
     "shell.execute_reply.started": "2023-04-26T01:51:58.697013Z",
     "shell.execute_reply": "2023-04-26T01:51:58.697047Z"
    },
    "trusted": true,
    "is_executing": true
   },
   "execution_count": null,
   "outputs": []
  },
  {
   "cell_type": "markdown",
   "source": "# Linear Regression Models",
   "metadata": {
    "papermill": {
     "duration": 0.021553,
     "end_time": "2023-04-25T22:02:54.056717",
     "exception": false,
     "start_time": "2023-04-25T22:02:54.035164",
     "status": "completed"
    },
    "tags": []
   }
  },
  {
   "cell_type": "code",
   "source": [
    "r2 = []\n",
    "mse = []\n",
    "mae = []\n",
    "mape = []\n",
    "accuracy = []\n",
    "for i in range(1, 8):\n",
    "    poly = PolynomialFeatures(degree=i)\n",
    "    X_poly = poly.fit_transform(X)\n",
    "    X_train, X_test, y_train, y_test = train_test_split(X_poly, y, test_size=0.2, random_state=0)\n",
    "    Model = LinearRegression()\n",
    "    Model.fit(X_train, y_train)\n",
    "    y_pred = Model.predict(X_test)\n",
    "\n",
    "    r2.append(round(r2_score(y_test, y_pred), 2))\n",
    "    mse.append(round(mean_squared_error(y_test, y_pred), 2))\n",
    "    mae.append(round(mean_absolute_error(y_test, y_pred), 2))\n",
    "    mape.append(round(mean_absolute_percentage_error(y_test, y_pred), 2))\n",
    "    accuracy.append(round(Model.score(X_test, y_test), 2))\n",
    "\n",
    "    print(f'Degree {i}')\n",
    "    print(f'R2 Score: {r2[-1]}')\n",
    "    print(f'Mean Squared Error: {mse[-1]}')\n",
    "    print(f'Mean Absolute Error: {mae[-1]}')\n",
    "    print(f'Mean Absolute Percentage Error: {mape[-1]}')\n",
    "    print(f'Accuracy: {accuracy[-1]}')\n",
    "\n",
    "    Y_Test_Pred = pd.DataFrame({\"Y_Test\": y_test, \"Y_Pred\": y_pred})\n",
    "    Y_Test_Pred = Y_Test_Pred.reset_index()\n",
    "    plt.figure(figsize=(20, 10))\n",
    "    Y_Test_Pred = Y_Test_Pred.drop([\"index\"], axis=1)\n",
    "    plt.plot(Y_Test_Pred)\n",
    "    plt.legend([\"Actual\", \"Predicted\"])\n",
    "    plt.show()\n",
    "    print()\n",
    "    print()"
   ],
   "metadata": {
    "collapsed": false,
    "jupyter": {
     "outputs_hidden": false
    },
    "execution": {
     "iopub.status.busy": "2023-04-26T01:51:58.702259Z",
     "iopub.status.idle": "2023-04-26T01:51:58.702843Z",
     "shell.execute_reply.started": "2023-04-26T01:51:58.702534Z",
     "shell.execute_reply": "2023-04-26T01:51:58.702564Z"
    },
    "trusted": true,
    "is_executing": true
   },
   "execution_count": null,
   "outputs": []
  },
  {
   "cell_type": "markdown",
   "source": "# Plot R2 Score, Mean Squared Error, Mean Absolute Error",
   "metadata": {}
  },
  {
   "cell_type": "markdown",
   "source": "## Plot without standardization",
   "metadata": {}
  },
  {
   "cell_type": "code",
   "source": [
    "r2 = np.array(r2)\n",
    "mse = np.array(mse)\n",
    "mae = np.array(mae)\n",
    "mape = np.array(mape)\n",
    "fig, ax = plt.subplots(figsize=(20, 10))\n",
    "ax.plot(np.linspace(1, 7, 7), r2, label='R2 Score')\n",
    "ax.plot(np.linspace(1, 7, 7), mse, label='Mean Squared Error')\n",
    "ax.plot(np.linspace(1, 7, 7), mae, label='Mean Absolute Error')\n",
    "ax.plot(np.linspace(1, 7, 7), mape, label='Mean Absolute Percentage Error')\n",
    "ax.plot(np.linspace(1, 7, 7), accuracy, label='Accuracy')\n",
    "ax.set_xlabel('Degree')\n",
    "ax.set_ylabel('Score')\n",
    "plt.legend()\n",
    "plt.show()"
   ],
   "metadata": {
    "collapsed": false,
    "jupyter": {
     "outputs_hidden": false
    },
    "execution": {
     "iopub.status.busy": "2023-04-26T01:51:58.704439Z",
     "iopub.status.idle": "2023-04-26T01:51:58.705018Z",
     "shell.execute_reply.started": "2023-04-26T01:51:58.704704Z",
     "shell.execute_reply": "2023-04-26T01:51:58.704734Z"
    },
    "trusted": true,
    "is_executing": true
   },
   "execution_count": null,
   "outputs": []
  },
  {
   "cell_type": "markdown",
   "source": "## Plot with standardization",
   "metadata": {}
  },
  {
   "cell_type": "code",
   "source": [
    "r2 = standardize(r2)\n",
    "mse = standardize(mse)\n",
    "mae = standardize(mae)\n",
    "mape = standardize(mape)\n",
    "fig, ax = plt.subplots(figsize=(20, 10))\n",
    "ax.plot(np.linspace(1, 7, 7), r2, label='R2 Score')\n",
    "ax.plot(np.linspace(1, 7, 7), mse, label='Mean Squared Error')\n",
    "ax.plot(np.linspace(1, 7, 7), mae, label='Mean Absolute Error')\n",
    "ax.plot(np.linspace(1, 7, 7), mape, label='Mean Absolute Percentage Error')\n",
    "ax.plot(np.linspace(1, 7, 7), accuracy, label='Accuracy')\n",
    "ax.set_xlabel('Degree')\n",
    "ax.set_ylabel('Score')\n",
    "plt.legend()\n",
    "plt.show()"
   ],
   "metadata": {
    "collapsed": false,
    "jupyter": {
     "outputs_hidden": false
    },
    "is_executing": true
   },
   "execution_count": null,
   "outputs": []
  }
 ]
}
