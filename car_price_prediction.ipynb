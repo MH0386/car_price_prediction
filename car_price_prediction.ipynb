{
 "cells": [
  {
   "cell_type": "markdown",
   "metadata": {},
   "source": [
    "# Imports\n"
   ]
  },
  {
   "cell_type": "code",
   "execution_count": 222,
   "metadata": {
    "ExecuteTime": {
     "start_time": "2023-04-25T23:50:14.142798Z",
     "end_time": "2023-04-25T23:50:15.337492Z"
    },
    "_cell_guid": "b1076dfc-b9ad-4769-8c92-a6c4dae69d19",
    "_uuid": "8f2839f25d086af736a60e9eeb907d3b93b6e0e5",
    "execution": {
     "iopub.execute_input": "2023-04-23T21:38:24.193795Z",
     "iopub.status.busy": "2023-04-23T21:38:24.193333Z",
     "iopub.status.idle": "2023-04-23T21:38:24.200075Z",
     "shell.execute_reply": "2023-04-23T21:38:24.198668Z",
     "shell.execute_reply.started": "2023-04-23T21:38:24.193759Z"
    },
    "trusted": true
   },
   "outputs": [],
   "source": [
    "import numpy as np\n",
    "import pandas as pd\n",
    "import plotly as px\n",
    "import seaborn as sns\n",
    "import matplotlib.pyplot as plt\n",
    "from sklearn import preprocessing\n",
    "from sklearn.utils import shuffle\n",
    "from sklearn.linear_model import LinearRegression\n",
    "from sklearn.model_selection import train_test_split\n",
    "from sklearn.metrics import r2_score\n",
    "from sklearn.metrics import mean_squared_error\n",
    "from sklearn.metrics import mean_absolute_error\n",
    "from sklearn.preprocessing import PolynomialFeatures"
   ]
  },
  {
   "cell_type": "markdown",
   "metadata": {},
   "source": [
    "# Data"
   ]
  },
  {
   "cell_type": "code",
   "execution_count": 223,
   "metadata": {
    "ExecuteTime": {
     "start_time": "2023-04-25T23:50:14.164796Z",
     "end_time": "2023-04-25T23:50:15.852506Z"
    },
    "execution": {
     "iopub.execute_input": "2023-04-23T21:38:24.207673Z",
     "iopub.status.busy": "2023-04-23T21:38:24.207054Z",
     "iopub.status.idle": "2023-04-23T21:38:24.318690Z",
     "shell.execute_reply": "2023-04-23T21:38:24.317159Z",
     "shell.execute_reply.started": "2023-04-23T21:38:24.207622Z"
    },
    "scrolled": true,
    "trusted": true
   },
   "outputs": [
    {
     "data": {
      "text/plain": "         model  year  price transmission  mileage fuelType    tax   mpg  \\\n0           A1  2017  12500       Manual    15735   Petrol  150.0  55.4   \n1           A6  2016  16500    Automatic    36203   Diesel   20.0  64.2   \n2           A1  2016  11000       Manual    29946   Petrol   30.0  55.4   \n3           A4  2017  16800    Automatic    25952   Diesel  145.0  67.3   \n4           A3  2019  17300       Manual     1998   Petrol  145.0  49.6   \n...        ...   ...    ...          ...      ...      ...    ...   ...   \n72430      I30  2016   8680       Manual    25906   Diesel    0.0  78.4   \n72431      I40  2015   7830       Manual    59508   Diesel   30.0  65.7   \n72432      I10  2017   6830       Manual    13810   Petrol   20.0  60.1   \n72433   Tucson  2018  13994       Manual    23313   Petrol  145.0  44.8   \n72434   Tucson  2016  15999    Automatic    11472   Diesel  125.0  57.6   \n\n       engineSize     Make  \n0             1.4     audi  \n1             2.0     audi  \n2             1.4     audi  \n3             2.0     audi  \n4             1.0     audi  \n...           ...      ...  \n72430         1.6  Hyundai  \n72431         1.7  Hyundai  \n72432         1.0  Hyundai  \n72433         1.6  Hyundai  \n72434         1.7  Hyundai  \n\n[72435 rows x 10 columns]",
      "text/html": "<div>\n<style scoped>\n    .dataframe tbody tr th:only-of-type {\n        vertical-align: middle;\n    }\n\n    .dataframe tbody tr th {\n        vertical-align: top;\n    }\n\n    .dataframe thead th {\n        text-align: right;\n    }\n</style>\n<table border=\"1\" class=\"dataframe\">\n  <thead>\n    <tr style=\"text-align: right;\">\n      <th></th>\n      <th>model</th>\n      <th>year</th>\n      <th>price</th>\n      <th>transmission</th>\n      <th>mileage</th>\n      <th>fuelType</th>\n      <th>tax</th>\n      <th>mpg</th>\n      <th>engineSize</th>\n      <th>Make</th>\n    </tr>\n  </thead>\n  <tbody>\n    <tr>\n      <th>0</th>\n      <td>A1</td>\n      <td>2017</td>\n      <td>12500</td>\n      <td>Manual</td>\n      <td>15735</td>\n      <td>Petrol</td>\n      <td>150.0</td>\n      <td>55.4</td>\n      <td>1.4</td>\n      <td>audi</td>\n    </tr>\n    <tr>\n      <th>1</th>\n      <td>A6</td>\n      <td>2016</td>\n      <td>16500</td>\n      <td>Automatic</td>\n      <td>36203</td>\n      <td>Diesel</td>\n      <td>20.0</td>\n      <td>64.2</td>\n      <td>2.0</td>\n      <td>audi</td>\n    </tr>\n    <tr>\n      <th>2</th>\n      <td>A1</td>\n      <td>2016</td>\n      <td>11000</td>\n      <td>Manual</td>\n      <td>29946</td>\n      <td>Petrol</td>\n      <td>30.0</td>\n      <td>55.4</td>\n      <td>1.4</td>\n      <td>audi</td>\n    </tr>\n    <tr>\n      <th>3</th>\n      <td>A4</td>\n      <td>2017</td>\n      <td>16800</td>\n      <td>Automatic</td>\n      <td>25952</td>\n      <td>Diesel</td>\n      <td>145.0</td>\n      <td>67.3</td>\n      <td>2.0</td>\n      <td>audi</td>\n    </tr>\n    <tr>\n      <th>4</th>\n      <td>A3</td>\n      <td>2019</td>\n      <td>17300</td>\n      <td>Manual</td>\n      <td>1998</td>\n      <td>Petrol</td>\n      <td>145.0</td>\n      <td>49.6</td>\n      <td>1.0</td>\n      <td>audi</td>\n    </tr>\n    <tr>\n      <th>...</th>\n      <td>...</td>\n      <td>...</td>\n      <td>...</td>\n      <td>...</td>\n      <td>...</td>\n      <td>...</td>\n      <td>...</td>\n      <td>...</td>\n      <td>...</td>\n      <td>...</td>\n    </tr>\n    <tr>\n      <th>72430</th>\n      <td>I30</td>\n      <td>2016</td>\n      <td>8680</td>\n      <td>Manual</td>\n      <td>25906</td>\n      <td>Diesel</td>\n      <td>0.0</td>\n      <td>78.4</td>\n      <td>1.6</td>\n      <td>Hyundai</td>\n    </tr>\n    <tr>\n      <th>72431</th>\n      <td>I40</td>\n      <td>2015</td>\n      <td>7830</td>\n      <td>Manual</td>\n      <td>59508</td>\n      <td>Diesel</td>\n      <td>30.0</td>\n      <td>65.7</td>\n      <td>1.7</td>\n      <td>Hyundai</td>\n    </tr>\n    <tr>\n      <th>72432</th>\n      <td>I10</td>\n      <td>2017</td>\n      <td>6830</td>\n      <td>Manual</td>\n      <td>13810</td>\n      <td>Petrol</td>\n      <td>20.0</td>\n      <td>60.1</td>\n      <td>1.0</td>\n      <td>Hyundai</td>\n    </tr>\n    <tr>\n      <th>72433</th>\n      <td>Tucson</td>\n      <td>2018</td>\n      <td>13994</td>\n      <td>Manual</td>\n      <td>23313</td>\n      <td>Petrol</td>\n      <td>145.0</td>\n      <td>44.8</td>\n      <td>1.6</td>\n      <td>Hyundai</td>\n    </tr>\n    <tr>\n      <th>72434</th>\n      <td>Tucson</td>\n      <td>2016</td>\n      <td>15999</td>\n      <td>Automatic</td>\n      <td>11472</td>\n      <td>Diesel</td>\n      <td>125.0</td>\n      <td>57.6</td>\n      <td>1.7</td>\n      <td>Hyundai</td>\n    </tr>\n  </tbody>\n</table>\n<p>72435 rows × 10 columns</p>\n</div>"
     },
     "execution_count": 223,
     "metadata": {},
     "output_type": "execute_result"
    }
   ],
   "source": [
    "try:\n",
    "    data = pd.read_csv('/kaggle/input/cars-dataset-audi-bmw-ford-hyundai-skoda-vw/cars_dataset.csv')\n",
    "except FileNotFoundError:\n",
    "    data = pd.read_csv('cars_dataset.csv')\n",
    "data"
   ]
  },
  {
   "cell_type": "code",
   "execution_count": 224,
   "metadata": {
    "ExecuteTime": {
     "start_time": "2023-04-25T23:50:14.345082Z",
     "end_time": "2023-04-25T23:50:15.945501Z"
    },
    "execution": {
     "iopub.execute_input": "2023-04-23T21:38:24.347948Z",
     "iopub.status.busy": "2023-04-23T21:38:24.347357Z",
     "iopub.status.idle": "2023-04-23T21:38:24.361936Z",
     "shell.execute_reply": "2023-04-23T21:38:24.360665Z",
     "shell.execute_reply.started": "2023-04-23T21:38:24.347893Z"
    },
    "trusted": true
   },
   "outputs": [
    {
     "name": "stdout",
     "output_type": "stream",
     "text": [
      "<class 'pandas.core.frame.DataFrame'>\n",
      "RangeIndex: 72435 entries, 0 to 72434\n",
      "Data columns (total 10 columns):\n",
      " #   Column        Non-Null Count  Dtype  \n",
      "---  ------        --------------  -----  \n",
      " 0   model         72435 non-null  object \n",
      " 1   year          72435 non-null  int64  \n",
      " 2   price         72435 non-null  int64  \n",
      " 3   transmission  72435 non-null  object \n",
      " 4   mileage       72435 non-null  int64  \n",
      " 5   fuelType      72435 non-null  object \n",
      " 6   tax           72435 non-null  float64\n",
      " 7   mpg           72435 non-null  float64\n",
      " 8   engineSize    72435 non-null  float64\n",
      " 9   Make          72435 non-null  object \n",
      "dtypes: float64(3), int64(3), object(4)\n",
      "memory usage: 5.5+ MB\n"
     ]
    }
   ],
   "source": [
    "data.info()"
   ]
  },
  {
   "cell_type": "code",
   "execution_count": 225,
   "metadata": {
    "ExecuteTime": {
     "start_time": "2023-04-25T23:50:14.436038Z",
     "end_time": "2023-04-25T23:50:15.990502Z"
    },
    "collapsed": false
   },
   "outputs": [
    {
     "data": {
      "text/plain": "               year          price        mileage           tax           mpg  \\\ncount  72435.000000   72435.000000   72435.000000  72435.000000  72435.000000   \nmean    2017.073666   16580.158708   23176.517057    116.953407     55.852480   \nstd        2.101252    9299.028754   21331.515562     64.045533     17.114391   \nmin     1996.000000     495.000000       1.000000      0.000000      0.300000   \n25%     2016.000000   10175.000000    7202.500000     30.000000     47.900000   \n50%     2017.000000   14495.000000   17531.000000    145.000000     55.400000   \n75%     2019.000000   20361.000000   32449.000000    145.000000     62.800000   \nmax     2020.000000  145000.000000  323000.000000    580.000000    470.800000   \n\n         engineSize  \ncount  72435.000000  \nmean       1.635650  \nstd        0.561535  \nmin        0.000000  \n25%        1.200000  \n50%        1.600000  \n75%        2.000000  \nmax        6.600000  ",
      "text/html": "<div>\n<style scoped>\n    .dataframe tbody tr th:only-of-type {\n        vertical-align: middle;\n    }\n\n    .dataframe tbody tr th {\n        vertical-align: top;\n    }\n\n    .dataframe thead th {\n        text-align: right;\n    }\n</style>\n<table border=\"1\" class=\"dataframe\">\n  <thead>\n    <tr style=\"text-align: right;\">\n      <th></th>\n      <th>year</th>\n      <th>price</th>\n      <th>mileage</th>\n      <th>tax</th>\n      <th>mpg</th>\n      <th>engineSize</th>\n    </tr>\n  </thead>\n  <tbody>\n    <tr>\n      <th>count</th>\n      <td>72435.000000</td>\n      <td>72435.000000</td>\n      <td>72435.000000</td>\n      <td>72435.000000</td>\n      <td>72435.000000</td>\n      <td>72435.000000</td>\n    </tr>\n    <tr>\n      <th>mean</th>\n      <td>2017.073666</td>\n      <td>16580.158708</td>\n      <td>23176.517057</td>\n      <td>116.953407</td>\n      <td>55.852480</td>\n      <td>1.635650</td>\n    </tr>\n    <tr>\n      <th>std</th>\n      <td>2.101252</td>\n      <td>9299.028754</td>\n      <td>21331.515562</td>\n      <td>64.045533</td>\n      <td>17.114391</td>\n      <td>0.561535</td>\n    </tr>\n    <tr>\n      <th>min</th>\n      <td>1996.000000</td>\n      <td>495.000000</td>\n      <td>1.000000</td>\n      <td>0.000000</td>\n      <td>0.300000</td>\n      <td>0.000000</td>\n    </tr>\n    <tr>\n      <th>25%</th>\n      <td>2016.000000</td>\n      <td>10175.000000</td>\n      <td>7202.500000</td>\n      <td>30.000000</td>\n      <td>47.900000</td>\n      <td>1.200000</td>\n    </tr>\n    <tr>\n      <th>50%</th>\n      <td>2017.000000</td>\n      <td>14495.000000</td>\n      <td>17531.000000</td>\n      <td>145.000000</td>\n      <td>55.400000</td>\n      <td>1.600000</td>\n    </tr>\n    <tr>\n      <th>75%</th>\n      <td>2019.000000</td>\n      <td>20361.000000</td>\n      <td>32449.000000</td>\n      <td>145.000000</td>\n      <td>62.800000</td>\n      <td>2.000000</td>\n    </tr>\n    <tr>\n      <th>max</th>\n      <td>2020.000000</td>\n      <td>145000.000000</td>\n      <td>323000.000000</td>\n      <td>580.000000</td>\n      <td>470.800000</td>\n      <td>6.600000</td>\n    </tr>\n  </tbody>\n</table>\n</div>"
     },
     "execution_count": 225,
     "metadata": {},
     "output_type": "execute_result"
    }
   ],
   "source": [
    "data.describe()"
   ]
  },
  {
   "cell_type": "markdown",
   "metadata": {
    "collapsed": false
   },
   "source": [
    "## Nulls"
   ]
  },
  {
   "cell_type": "code",
   "execution_count": 226,
   "metadata": {
    "ExecuteTime": {
     "start_time": "2023-04-25T23:50:14.512333Z",
     "end_time": "2023-04-25T23:50:16.041513Z"
    },
    "execution": {
     "iopub.execute_input": "2023-04-23T21:38:24.365442Z",
     "iopub.status.busy": "2023-04-23T21:38:24.365046Z",
     "iopub.status.idle": "2023-04-23T21:38:24.392244Z",
     "shell.execute_reply": "2023-04-23T21:38:24.390929Z",
     "shell.execute_reply.started": "2023-04-23T21:38:24.365401Z"
    },
    "trusted": true
   },
   "outputs": [
    {
     "data": {
      "text/plain": "model           0\nyear            0\nprice           0\ntransmission    0\nmileage         0\nfuelType        0\ntax             0\nmpg             0\nengineSize      0\nMake            0\ndtype: int64"
     },
     "execution_count": 226,
     "metadata": {},
     "output_type": "execute_result"
    }
   ],
   "source": [
    "data.isnull().sum()"
   ]
  },
  {
   "cell_type": "code",
   "execution_count": 227,
   "metadata": {
    "ExecuteTime": {
     "start_time": "2023-04-25T23:50:14.590372Z",
     "end_time": "2023-04-25T23:50:16.045505Z"
    },
    "collapsed": false
   },
   "outputs": [
    {
     "data": {
      "text/plain": "Index(['model', 'year', 'price', 'transmission', 'mileage', 'fuelType', 'tax',\n       'mpg', 'engineSize', 'Make'],\n      dtype='object')"
     },
     "execution_count": 227,
     "metadata": {},
     "output_type": "execute_result"
    }
   ],
   "source": [
    "data.columns"
   ]
  },
  {
   "cell_type": "markdown",
   "metadata": {},
   "source": [
    "# Draw"
   ]
  },
  {
   "cell_type": "code",
   "execution_count": 228,
   "metadata": {
    "ExecuteTime": {
     "start_time": "2023-04-25T23:50:14.624333Z",
     "end_time": "2023-04-25T23:50:16.046505Z"
    },
    "collapsed": false
   },
   "outputs": [],
   "source": [
    "# for col in data.columns:\n",
    "#     fig, ax = plt.subplots(figsize=(30, 5))\n",
    "#     ax.tick_params(axis='x', rotation=90)\n",
    "#     plt.title(f'{col} histogram')\n",
    "#     sns.histplot(data=data, x=col, ax=ax)\n",
    "#     plt.show()"
   ]
  },
  {
   "cell_type": "code",
   "execution_count": 229,
   "metadata": {
    "ExecuteTime": {
     "start_time": "2023-04-25T23:50:14.635051Z",
     "end_time": "2023-04-25T23:50:16.046505Z"
    },
    "execution": {
     "iopub.execute_input": "2023-04-23T21:38:32.025127Z",
     "iopub.status.busy": "2023-04-23T21:38:32.024636Z",
     "iopub.status.idle": "2023-04-23T21:38:32.037902Z",
     "shell.execute_reply": "2023-04-23T21:38:32.036859Z",
     "shell.execute_reply.started": "2023-04-23T21:38:32.025092Z"
    },
    "trusted": true
   },
   "outputs": [],
   "source": [
    "def standardize(x):\n",
    "    return (x - np.mean(x)) / np.std(x)"
   ]
  },
  {
   "cell_type": "code",
   "execution_count": 230,
   "metadata": {
    "ExecuteTime": {
     "start_time": "2023-04-25T23:50:14.656047Z",
     "end_time": "2023-04-25T23:50:16.175876Z"
    },
    "execution": {
     "iopub.execute_input": "2023-04-23T21:38:32.119245Z",
     "iopub.status.busy": "2023-04-23T21:38:32.118441Z",
     "iopub.status.idle": "2023-04-23T21:38:32.225783Z",
     "shell.execute_reply": "2023-04-23T21:38:32.224588Z",
     "shell.execute_reply.started": "2023-04-23T21:38:32.119196Z"
    },
    "trusted": true
   },
   "outputs": [
    {
     "data": {
      "text/plain": "       model  year  price  transmission  mileage  fuelType    tax   mpg  \\\n0          8  2017  12500             1    15735         4  150.0  55.4   \n1         13  2016  16500             0    36203         0   20.0  64.2   \n2          8  2016  11000             1    29946         4   30.0  55.4   \n3         11  2017  16800             0    25952         0  145.0  67.3   \n4         10  2019  17300             1     1998         4  145.0  49.6   \n...      ...   ...    ...           ...      ...       ...    ...   ...   \n72430     56  2016   8680             1    25906         0    0.0  78.4   \n72431     57  2015   7830             1    59508         0   30.0  65.7   \n72432     54  2017   6830             1    13810         4   20.0  60.1   \n72433    126  2018  13994             1    23313         4  145.0  44.8   \n72434    126  2016  15999             0    11472         0  125.0  57.6   \n\n       engineSize  Make  \n0             1.4     3  \n1             2.0     3  \n2             1.4     3  \n3             2.0     3  \n4             1.0     3  \n...           ...   ...  \n72430         1.6     2  \n72431         1.7     2  \n72432         1.0     2  \n72433         1.6     2  \n72434         1.7     2  \n\n[72435 rows x 10 columns]",
      "text/html": "<div>\n<style scoped>\n    .dataframe tbody tr th:only-of-type {\n        vertical-align: middle;\n    }\n\n    .dataframe tbody tr th {\n        vertical-align: top;\n    }\n\n    .dataframe thead th {\n        text-align: right;\n    }\n</style>\n<table border=\"1\" class=\"dataframe\">\n  <thead>\n    <tr style=\"text-align: right;\">\n      <th></th>\n      <th>model</th>\n      <th>year</th>\n      <th>price</th>\n      <th>transmission</th>\n      <th>mileage</th>\n      <th>fuelType</th>\n      <th>tax</th>\n      <th>mpg</th>\n      <th>engineSize</th>\n      <th>Make</th>\n    </tr>\n  </thead>\n  <tbody>\n    <tr>\n      <th>0</th>\n      <td>8</td>\n      <td>2017</td>\n      <td>12500</td>\n      <td>1</td>\n      <td>15735</td>\n      <td>4</td>\n      <td>150.0</td>\n      <td>55.4</td>\n      <td>1.4</td>\n      <td>3</td>\n    </tr>\n    <tr>\n      <th>1</th>\n      <td>13</td>\n      <td>2016</td>\n      <td>16500</td>\n      <td>0</td>\n      <td>36203</td>\n      <td>0</td>\n      <td>20.0</td>\n      <td>64.2</td>\n      <td>2.0</td>\n      <td>3</td>\n    </tr>\n    <tr>\n      <th>2</th>\n      <td>8</td>\n      <td>2016</td>\n      <td>11000</td>\n      <td>1</td>\n      <td>29946</td>\n      <td>4</td>\n      <td>30.0</td>\n      <td>55.4</td>\n      <td>1.4</td>\n      <td>3</td>\n    </tr>\n    <tr>\n      <th>3</th>\n      <td>11</td>\n      <td>2017</td>\n      <td>16800</td>\n      <td>0</td>\n      <td>25952</td>\n      <td>0</td>\n      <td>145.0</td>\n      <td>67.3</td>\n      <td>2.0</td>\n      <td>3</td>\n    </tr>\n    <tr>\n      <th>4</th>\n      <td>10</td>\n      <td>2019</td>\n      <td>17300</td>\n      <td>1</td>\n      <td>1998</td>\n      <td>4</td>\n      <td>145.0</td>\n      <td>49.6</td>\n      <td>1.0</td>\n      <td>3</td>\n    </tr>\n    <tr>\n      <th>...</th>\n      <td>...</td>\n      <td>...</td>\n      <td>...</td>\n      <td>...</td>\n      <td>...</td>\n      <td>...</td>\n      <td>...</td>\n      <td>...</td>\n      <td>...</td>\n      <td>...</td>\n    </tr>\n    <tr>\n      <th>72430</th>\n      <td>56</td>\n      <td>2016</td>\n      <td>8680</td>\n      <td>1</td>\n      <td>25906</td>\n      <td>0</td>\n      <td>0.0</td>\n      <td>78.4</td>\n      <td>1.6</td>\n      <td>2</td>\n    </tr>\n    <tr>\n      <th>72431</th>\n      <td>57</td>\n      <td>2015</td>\n      <td>7830</td>\n      <td>1</td>\n      <td>59508</td>\n      <td>0</td>\n      <td>30.0</td>\n      <td>65.7</td>\n      <td>1.7</td>\n      <td>2</td>\n    </tr>\n    <tr>\n      <th>72432</th>\n      <td>54</td>\n      <td>2017</td>\n      <td>6830</td>\n      <td>1</td>\n      <td>13810</td>\n      <td>4</td>\n      <td>20.0</td>\n      <td>60.1</td>\n      <td>1.0</td>\n      <td>2</td>\n    </tr>\n    <tr>\n      <th>72433</th>\n      <td>126</td>\n      <td>2018</td>\n      <td>13994</td>\n      <td>1</td>\n      <td>23313</td>\n      <td>4</td>\n      <td>145.0</td>\n      <td>44.8</td>\n      <td>1.6</td>\n      <td>2</td>\n    </tr>\n    <tr>\n      <th>72434</th>\n      <td>126</td>\n      <td>2016</td>\n      <td>15999</td>\n      <td>0</td>\n      <td>11472</td>\n      <td>0</td>\n      <td>125.0</td>\n      <td>57.6</td>\n      <td>1.7</td>\n      <td>2</td>\n    </tr>\n  </tbody>\n</table>\n<p>72435 rows × 10 columns</p>\n</div>"
     },
     "execution_count": 230,
     "metadata": {},
     "output_type": "execute_result"
    }
   ],
   "source": [
    "data.model = preprocessing.LabelEncoder().fit_transform(data.model)\n",
    "data.transmission = preprocessing.LabelEncoder().fit_transform(data.transmission)\n",
    "data.fuelType = preprocessing.LabelEncoder().fit_transform(data.fuelType)\n",
    "data.Make = preprocessing.LabelEncoder().fit_transform(data.Make)\n",
    "data"
   ]
  },
  {
   "cell_type": "code",
   "execution_count": 231,
   "metadata": {
    "ExecuteTime": {
     "start_time": "2023-04-25T23:50:14.847041Z",
     "end_time": "2023-04-25T23:50:16.179875Z"
    },
    "execution": {
     "iopub.execute_input": "2023-04-23T21:38:32.227551Z",
     "iopub.status.busy": "2023-04-23T21:38:32.227222Z",
     "iopub.status.idle": "2023-04-23T21:38:32.254000Z",
     "shell.execute_reply": "2023-04-23T21:38:32.252746Z",
     "shell.execute_reply.started": "2023-04-23T21:38:32.227521Z"
    },
    "trusted": true
   },
   "outputs": [
    {
     "data": {
      "text/plain": "       model  year  price  transmission   mileage  fuelType    tax   mpg  \\\n0          8  2017  12500             1 -0.348853         4  150.0  55.4   \n1         13  2016  16500             0  0.610673         0   20.0  64.2   \n2          8  2016  11000             1  0.317349         4   30.0  55.4   \n3         11  2017  16800             0  0.130113         0  145.0  67.3   \n4         10  2019  17300             1 -0.992834         4  145.0  49.6   \n...      ...   ...    ...           ...       ...       ...    ...   ...   \n72430     56  2016   8680             1  0.127956         0    0.0  78.4   \n72431     57  2015   7830             1  1.703195         0   30.0  65.7   \n72432     54  2017   6830             1 -0.439096         4   20.0  60.1   \n72433    126  2018  13994             1  0.006398         4  145.0  44.8   \n72434    126  2016  15999             0 -0.548700         0  125.0  57.6   \n\n       engineSize  Make  \n0             1.4     3  \n1             2.0     3  \n2             1.4     3  \n3             2.0     3  \n4             1.0     3  \n...           ...   ...  \n72430         1.6     2  \n72431         1.7     2  \n72432         1.0     2  \n72433         1.6     2  \n72434         1.7     2  \n\n[72435 rows x 10 columns]",
      "text/html": "<div>\n<style scoped>\n    .dataframe tbody tr th:only-of-type {\n        vertical-align: middle;\n    }\n\n    .dataframe tbody tr th {\n        vertical-align: top;\n    }\n\n    .dataframe thead th {\n        text-align: right;\n    }\n</style>\n<table border=\"1\" class=\"dataframe\">\n  <thead>\n    <tr style=\"text-align: right;\">\n      <th></th>\n      <th>model</th>\n      <th>year</th>\n      <th>price</th>\n      <th>transmission</th>\n      <th>mileage</th>\n      <th>fuelType</th>\n      <th>tax</th>\n      <th>mpg</th>\n      <th>engineSize</th>\n      <th>Make</th>\n    </tr>\n  </thead>\n  <tbody>\n    <tr>\n      <th>0</th>\n      <td>8</td>\n      <td>2017</td>\n      <td>12500</td>\n      <td>1</td>\n      <td>-0.348853</td>\n      <td>4</td>\n      <td>150.0</td>\n      <td>55.4</td>\n      <td>1.4</td>\n      <td>3</td>\n    </tr>\n    <tr>\n      <th>1</th>\n      <td>13</td>\n      <td>2016</td>\n      <td>16500</td>\n      <td>0</td>\n      <td>0.610673</td>\n      <td>0</td>\n      <td>20.0</td>\n      <td>64.2</td>\n      <td>2.0</td>\n      <td>3</td>\n    </tr>\n    <tr>\n      <th>2</th>\n      <td>8</td>\n      <td>2016</td>\n      <td>11000</td>\n      <td>1</td>\n      <td>0.317349</td>\n      <td>4</td>\n      <td>30.0</td>\n      <td>55.4</td>\n      <td>1.4</td>\n      <td>3</td>\n    </tr>\n    <tr>\n      <th>3</th>\n      <td>11</td>\n      <td>2017</td>\n      <td>16800</td>\n      <td>0</td>\n      <td>0.130113</td>\n      <td>0</td>\n      <td>145.0</td>\n      <td>67.3</td>\n      <td>2.0</td>\n      <td>3</td>\n    </tr>\n    <tr>\n      <th>4</th>\n      <td>10</td>\n      <td>2019</td>\n      <td>17300</td>\n      <td>1</td>\n      <td>-0.992834</td>\n      <td>4</td>\n      <td>145.0</td>\n      <td>49.6</td>\n      <td>1.0</td>\n      <td>3</td>\n    </tr>\n    <tr>\n      <th>...</th>\n      <td>...</td>\n      <td>...</td>\n      <td>...</td>\n      <td>...</td>\n      <td>...</td>\n      <td>...</td>\n      <td>...</td>\n      <td>...</td>\n      <td>...</td>\n      <td>...</td>\n    </tr>\n    <tr>\n      <th>72430</th>\n      <td>56</td>\n      <td>2016</td>\n      <td>8680</td>\n      <td>1</td>\n      <td>0.127956</td>\n      <td>0</td>\n      <td>0.0</td>\n      <td>78.4</td>\n      <td>1.6</td>\n      <td>2</td>\n    </tr>\n    <tr>\n      <th>72431</th>\n      <td>57</td>\n      <td>2015</td>\n      <td>7830</td>\n      <td>1</td>\n      <td>1.703195</td>\n      <td>0</td>\n      <td>30.0</td>\n      <td>65.7</td>\n      <td>1.7</td>\n      <td>2</td>\n    </tr>\n    <tr>\n      <th>72432</th>\n      <td>54</td>\n      <td>2017</td>\n      <td>6830</td>\n      <td>1</td>\n      <td>-0.439096</td>\n      <td>4</td>\n      <td>20.0</td>\n      <td>60.1</td>\n      <td>1.0</td>\n      <td>2</td>\n    </tr>\n    <tr>\n      <th>72433</th>\n      <td>126</td>\n      <td>2018</td>\n      <td>13994</td>\n      <td>1</td>\n      <td>0.006398</td>\n      <td>4</td>\n      <td>145.0</td>\n      <td>44.8</td>\n      <td>1.6</td>\n      <td>2</td>\n    </tr>\n    <tr>\n      <th>72434</th>\n      <td>126</td>\n      <td>2016</td>\n      <td>15999</td>\n      <td>0</td>\n      <td>-0.548700</td>\n      <td>0</td>\n      <td>125.0</td>\n      <td>57.6</td>\n      <td>1.7</td>\n      <td>2</td>\n    </tr>\n  </tbody>\n</table>\n<p>72435 rows × 10 columns</p>\n</div>"
     },
     "execution_count": 231,
     "metadata": {},
     "output_type": "execute_result"
    }
   ],
   "source": [
    "data.mileage = standardize(data.mileage)\n",
    "data"
   ]
  },
  {
   "cell_type": "markdown",
   "metadata": {
    "collapsed": false
   },
   "source": [
    "# Split"
   ]
  },
  {
   "cell_type": "code",
   "execution_count": 232,
   "metadata": {
    "ExecuteTime": {
     "start_time": "2023-04-25T23:50:14.917043Z",
     "end_time": "2023-04-25T23:50:16.180876Z"
    },
    "collapsed": false
   },
   "outputs": [],
   "source": [
    "data = shuffle(data)\n",
    "y = data.price\n",
    "data.drop('price', axis=1, inplace=True)\n",
    "X = data"
   ]
  },
  {
   "cell_type": "code",
   "execution_count": 233,
   "outputs": [
    {
     "data": {
      "text/plain": "       model  year  transmission   mileage  fuelType    tax   mpg  engineSize  \\\n53216    121  2015             0  1.578027         0  240.0  42.8         3.0   \n57784     20  2017             0 -0.033730         2  140.0  72.4         1.8   \n65890     67  2018             1 -0.021542         4  145.0  52.3         1.5   \n17211      0  2017             3 -0.739170         4  145.0  39.8         3.0   \n22743     42  2017             0 -0.482975         4  145.0  54.3         1.0   \n...      ...   ...           ...       ...       ...    ...   ...         ...   \n9755      86  2015             1  3.101230         0   30.0  61.4         2.0   \n30359     65  2018             1 -0.720841         4  150.0  57.7         1.2   \n25899     42  2014             1  0.019056         4    0.0  65.7         1.0   \n76        87  2016             0  0.329303         0  200.0  47.1         2.0   \n59709     22  2018             1 -0.385232         4  145.0  68.9         1.0   \n\n       Make  \n53216     6  \n57784     5  \n65890     4  \n17211     0  \n22743     1  \n...     ...  \n9755      3  \n30359     1  \n25899     1  \n76        3  \n59709     5  \n\n[72435 rows x 9 columns]",
      "text/html": "<div>\n<style scoped>\n    .dataframe tbody tr th:only-of-type {\n        vertical-align: middle;\n    }\n\n    .dataframe tbody tr th {\n        vertical-align: top;\n    }\n\n    .dataframe thead th {\n        text-align: right;\n    }\n</style>\n<table border=\"1\" class=\"dataframe\">\n  <thead>\n    <tr style=\"text-align: right;\">\n      <th></th>\n      <th>model</th>\n      <th>year</th>\n      <th>transmission</th>\n      <th>mileage</th>\n      <th>fuelType</th>\n      <th>tax</th>\n      <th>mpg</th>\n      <th>engineSize</th>\n      <th>Make</th>\n    </tr>\n  </thead>\n  <tbody>\n    <tr>\n      <th>53216</th>\n      <td>121</td>\n      <td>2015</td>\n      <td>0</td>\n      <td>1.578027</td>\n      <td>0</td>\n      <td>240.0</td>\n      <td>42.8</td>\n      <td>3.0</td>\n      <td>6</td>\n    </tr>\n    <tr>\n      <th>57784</th>\n      <td>20</td>\n      <td>2017</td>\n      <td>0</td>\n      <td>-0.033730</td>\n      <td>2</td>\n      <td>140.0</td>\n      <td>72.4</td>\n      <td>1.8</td>\n      <td>5</td>\n    </tr>\n    <tr>\n      <th>65890</th>\n      <td>67</td>\n      <td>2018</td>\n      <td>1</td>\n      <td>-0.021542</td>\n      <td>4</td>\n      <td>145.0</td>\n      <td>52.3</td>\n      <td>1.5</td>\n      <td>4</td>\n    </tr>\n    <tr>\n      <th>17211</th>\n      <td>0</td>\n      <td>2017</td>\n      <td>3</td>\n      <td>-0.739170</td>\n      <td>4</td>\n      <td>145.0</td>\n      <td>39.8</td>\n      <td>3.0</td>\n      <td>0</td>\n    </tr>\n    <tr>\n      <th>22743</th>\n      <td>42</td>\n      <td>2017</td>\n      <td>0</td>\n      <td>-0.482975</td>\n      <td>4</td>\n      <td>145.0</td>\n      <td>54.3</td>\n      <td>1.0</td>\n      <td>1</td>\n    </tr>\n    <tr>\n      <th>...</th>\n      <td>...</td>\n      <td>...</td>\n      <td>...</td>\n      <td>...</td>\n      <td>...</td>\n      <td>...</td>\n      <td>...</td>\n      <td>...</td>\n      <td>...</td>\n    </tr>\n    <tr>\n      <th>9755</th>\n      <td>86</td>\n      <td>2015</td>\n      <td>1</td>\n      <td>3.101230</td>\n      <td>0</td>\n      <td>30.0</td>\n      <td>61.4</td>\n      <td>2.0</td>\n      <td>3</td>\n    </tr>\n    <tr>\n      <th>30359</th>\n      <td>65</td>\n      <td>2018</td>\n      <td>1</td>\n      <td>-0.720841</td>\n      <td>4</td>\n      <td>150.0</td>\n      <td>57.7</td>\n      <td>1.2</td>\n      <td>1</td>\n    </tr>\n    <tr>\n      <th>25899</th>\n      <td>42</td>\n      <td>2014</td>\n      <td>1</td>\n      <td>0.019056</td>\n      <td>4</td>\n      <td>0.0</td>\n      <td>65.7</td>\n      <td>1.0</td>\n      <td>1</td>\n    </tr>\n    <tr>\n      <th>76</th>\n      <td>87</td>\n      <td>2016</td>\n      <td>0</td>\n      <td>0.329303</td>\n      <td>0</td>\n      <td>200.0</td>\n      <td>47.1</td>\n      <td>2.0</td>\n      <td>3</td>\n    </tr>\n    <tr>\n      <th>59709</th>\n      <td>22</td>\n      <td>2018</td>\n      <td>1</td>\n      <td>-0.385232</td>\n      <td>4</td>\n      <td>145.0</td>\n      <td>68.9</td>\n      <td>1.0</td>\n      <td>5</td>\n    </tr>\n  </tbody>\n</table>\n<p>72435 rows × 9 columns</p>\n</div>"
     },
     "execution_count": 233,
     "metadata": {},
     "output_type": "execute_result"
    }
   ],
   "source": [
    "X"
   ],
   "metadata": {
    "collapsed": false,
    "ExecuteTime": {
     "start_time": "2023-04-25T23:50:14.948039Z",
     "end_time": "2023-04-25T23:50:16.231970Z"
    }
   }
  },
  {
   "cell_type": "code",
   "execution_count": 234,
   "outputs": [
    {
     "data": {
      "text/plain": "53216    18440\n57784    13998\n65890    19625\n17211    23995\n22743    10710\n         ...  \n9755     10999\n30359     7995\n25899     7950\n76       19600\n59709     8300\nName: price, Length: 72435, dtype: int64"
     },
     "execution_count": 234,
     "metadata": {},
     "output_type": "execute_result"
    }
   ],
   "source": [
    "y"
   ],
   "metadata": {
    "collapsed": false,
    "ExecuteTime": {
     "start_time": "2023-04-25T23:50:15.005041Z",
     "end_time": "2023-04-25T23:50:16.232969Z"
    }
   }
  },
  {
   "cell_type": "code",
   "execution_count": 235,
   "metadata": {
    "ExecuteTime": {
     "start_time": "2023-04-25T23:50:15.041048Z",
     "end_time": "2023-04-25T23:50:16.232969Z"
    },
    "collapsed": false
   },
   "outputs": [],
   "source": [
    "X_train, X_test, y_train, y_test = train_test_split(data, y, test_size=0.2, random_state=0)"
   ]
  },
  {
   "cell_type": "markdown",
   "source": [
    "# Multiple Linear Regression"
   ],
   "metadata": {
    "collapsed": false
   }
  },
  {
   "cell_type": "markdown",
   "source": [
    "## Train"
   ],
   "metadata": {
    "collapsed": false
   }
  },
  {
   "cell_type": "code",
   "execution_count": 236,
   "outputs": [
    {
     "data": {
      "text/plain": "LinearRegression()",
      "text/html": "<style>#sk-container-id-9 {color: black;background-color: white;}#sk-container-id-9 pre{padding: 0;}#sk-container-id-9 div.sk-toggleable {background-color: white;}#sk-container-id-9 label.sk-toggleable__label {cursor: pointer;display: block;width: 100%;margin-bottom: 0;padding: 0.3em;box-sizing: border-box;text-align: center;}#sk-container-id-9 label.sk-toggleable__label-arrow:before {content: \"▸\";float: left;margin-right: 0.25em;color: #696969;}#sk-container-id-9 label.sk-toggleable__label-arrow:hover:before {color: black;}#sk-container-id-9 div.sk-estimator:hover label.sk-toggleable__label-arrow:before {color: black;}#sk-container-id-9 div.sk-toggleable__content {max-height: 0;max-width: 0;overflow: hidden;text-align: left;background-color: #f0f8ff;}#sk-container-id-9 div.sk-toggleable__content pre {margin: 0.2em;color: black;border-radius: 0.25em;background-color: #f0f8ff;}#sk-container-id-9 input.sk-toggleable__control:checked~div.sk-toggleable__content {max-height: 200px;max-width: 100%;overflow: auto;}#sk-container-id-9 input.sk-toggleable__control:checked~label.sk-toggleable__label-arrow:before {content: \"▾\";}#sk-container-id-9 div.sk-estimator input.sk-toggleable__control:checked~label.sk-toggleable__label {background-color: #d4ebff;}#sk-container-id-9 div.sk-label input.sk-toggleable__control:checked~label.sk-toggleable__label {background-color: #d4ebff;}#sk-container-id-9 input.sk-hidden--visually {border: 0;clip: rect(1px 1px 1px 1px);clip: rect(1px, 1px, 1px, 1px);height: 1px;margin: -1px;overflow: hidden;padding: 0;position: absolute;width: 1px;}#sk-container-id-9 div.sk-estimator {font-family: monospace;background-color: #f0f8ff;border: 1px dotted black;border-radius: 0.25em;box-sizing: border-box;margin-bottom: 0.5em;}#sk-container-id-9 div.sk-estimator:hover {background-color: #d4ebff;}#sk-container-id-9 div.sk-parallel-item::after {content: \"\";width: 100%;border-bottom: 1px solid gray;flex-grow: 1;}#sk-container-id-9 div.sk-label:hover label.sk-toggleable__label {background-color: #d4ebff;}#sk-container-id-9 div.sk-serial::before {content: \"\";position: absolute;border-left: 1px solid gray;box-sizing: border-box;top: 0;bottom: 0;left: 50%;z-index: 0;}#sk-container-id-9 div.sk-serial {display: flex;flex-direction: column;align-items: center;background-color: white;padding-right: 0.2em;padding-left: 0.2em;position: relative;}#sk-container-id-9 div.sk-item {position: relative;z-index: 1;}#sk-container-id-9 div.sk-parallel {display: flex;align-items: stretch;justify-content: center;background-color: white;position: relative;}#sk-container-id-9 div.sk-item::before, #sk-container-id-9 div.sk-parallel-item::before {content: \"\";position: absolute;border-left: 1px solid gray;box-sizing: border-box;top: 0;bottom: 0;left: 50%;z-index: -1;}#sk-container-id-9 div.sk-parallel-item {display: flex;flex-direction: column;z-index: 1;position: relative;background-color: white;}#sk-container-id-9 div.sk-parallel-item:first-child::after {align-self: flex-end;width: 50%;}#sk-container-id-9 div.sk-parallel-item:last-child::after {align-self: flex-start;width: 50%;}#sk-container-id-9 div.sk-parallel-item:only-child::after {width: 0;}#sk-container-id-9 div.sk-dashed-wrapped {border: 1px dashed gray;margin: 0 0.4em 0.5em 0.4em;box-sizing: border-box;padding-bottom: 0.4em;background-color: white;}#sk-container-id-9 div.sk-label label {font-family: monospace;font-weight: bold;display: inline-block;line-height: 1.2em;}#sk-container-id-9 div.sk-label-container {text-align: center;}#sk-container-id-9 div.sk-container {/* jupyter's `normalize.less` sets `[hidden] { display: none; }` but bootstrap.min.css set `[hidden] { display: none !important; }` so we also need the `!important` here to be able to override the default hidden behavior on the sphinx rendered scikit-learn.org. See: https://github.com/scikit-learn/scikit-learn/issues/21755 */display: inline-block !important;position: relative;}#sk-container-id-9 div.sk-text-repr-fallback {display: none;}</style><div id=\"sk-container-id-9\" class=\"sk-top-container\"><div class=\"sk-text-repr-fallback\"><pre>LinearRegression()</pre><b>In a Jupyter environment, please rerun this cell to show the HTML representation or trust the notebook. <br />On GitHub, the HTML representation is unable to render, please try loading this page with nbviewer.org.</b></div><div class=\"sk-container\" hidden><div class=\"sk-item\"><div class=\"sk-estimator sk-toggleable\"><input class=\"sk-toggleable__control sk-hidden--visually\" id=\"sk-estimator-id-9\" type=\"checkbox\" checked><label for=\"sk-estimator-id-9\" class=\"sk-toggleable__label sk-toggleable__label-arrow\">LinearRegression</label><div class=\"sk-toggleable__content\"><pre>LinearRegression()</pre></div></div></div></div></div>"
     },
     "execution_count": 236,
     "metadata": {},
     "output_type": "execute_result"
    }
   ],
   "source": [
    "Model1 = LinearRegression()\n",
    "Model1.fit(X_train, y_train)"
   ],
   "metadata": {
    "collapsed": false,
    "ExecuteTime": {
     "start_time": "2023-04-25T23:50:15.068038Z",
     "end_time": "2023-04-25T23:50:16.233971Z"
    }
   }
  },
  {
   "cell_type": "markdown",
   "source": [
    "## Predict"
   ],
   "metadata": {
    "collapsed": false
   }
  },
  {
   "cell_type": "code",
   "execution_count": 237,
   "outputs": [
    {
     "data": {
      "text/plain": "array([15704.9132296 , 22173.06515292, 15829.78421889, ...,\n       22288.26945514, 23367.6152746 ,  9186.1831825 ])"
     },
     "execution_count": 237,
     "metadata": {},
     "output_type": "execute_result"
    }
   ],
   "source": [
    "y_pred1 = Model1.predict(X_test)\n",
    "y_pred1"
   ],
   "metadata": {
    "collapsed": false,
    "ExecuteTime": {
     "start_time": "2023-04-25T23:50:15.117038Z",
     "end_time": "2023-04-25T23:50:16.233971Z"
    }
   }
  },
  {
   "cell_type": "markdown",
   "source": [
    "## R2 Score"
   ],
   "metadata": {
    "collapsed": false
   }
  },
  {
   "cell_type": "code",
   "execution_count": 238,
   "outputs": [
    {
     "data": {
      "text/plain": "0.7091479081768856"
     },
     "execution_count": 238,
     "metadata": {},
     "output_type": "execute_result"
    }
   ],
   "source": [
    "r2_score(y_test, y_pred1)"
   ],
   "metadata": {
    "collapsed": false,
    "ExecuteTime": {
     "start_time": "2023-04-25T23:50:15.150495Z",
     "end_time": "2023-04-25T23:50:16.233971Z"
    }
   }
  },
  {
   "cell_type": "markdown",
   "source": [
    "## Mean Squared Error"
   ],
   "metadata": {
    "collapsed": false
   }
  },
  {
   "cell_type": "code",
   "execution_count": 239,
   "outputs": [
    {
     "data": {
      "text/plain": "24555888.00612672"
     },
     "execution_count": 239,
     "metadata": {},
     "output_type": "execute_result"
    }
   ],
   "source": [
    "mean_squared_error(y_test, y_pred1)"
   ],
   "metadata": {
    "collapsed": false,
    "ExecuteTime": {
     "start_time": "2023-04-25T23:50:15.180492Z",
     "end_time": "2023-04-25T23:50:16.234971Z"
    }
   }
  },
  {
   "cell_type": "markdown",
   "source": [
    "## Mean Absolute Error"
   ],
   "metadata": {
    "collapsed": false
   }
  },
  {
   "cell_type": "code",
   "execution_count": 240,
   "outputs": [
    {
     "data": {
      "text/plain": "3253.6224034568586"
     },
     "execution_count": 240,
     "metadata": {},
     "output_type": "execute_result"
    }
   ],
   "source": [
    "mean_absolute_error(y_test, y_pred1)"
   ],
   "metadata": {
    "collapsed": false,
    "ExecuteTime": {
     "start_time": "2023-04-25T23:50:15.209495Z",
     "end_time": "2023-04-25T23:50:16.234971Z"
    }
   }
  },
  {
   "cell_type": "markdown",
   "source": [
    "# Polynomial Regression"
   ],
   "metadata": {
    "collapsed": false
   }
  },
  {
   "cell_type": "markdown",
   "source": [
    "## Degree 2"
   ],
   "metadata": {
    "collapsed": false
   }
  },
  {
   "cell_type": "code",
   "execution_count": 241,
   "outputs": [
    {
     "data": {
      "text/plain": "array([[1.000e+00, 1.210e+02, 2.015e+03, ..., 9.000e+00, 1.800e+01,\n        3.600e+01],\n       [1.000e+00, 2.000e+01, 2.017e+03, ..., 3.240e+00, 9.000e+00,\n        2.500e+01],\n       [1.000e+00, 6.700e+01, 2.018e+03, ..., 2.250e+00, 6.000e+00,\n        1.600e+01],\n       ...,\n       [1.000e+00, 4.200e+01, 2.014e+03, ..., 1.000e+00, 1.000e+00,\n        1.000e+00],\n       [1.000e+00, 8.700e+01, 2.016e+03, ..., 4.000e+00, 6.000e+00,\n        9.000e+00],\n       [1.000e+00, 2.200e+01, 2.018e+03, ..., 1.000e+00, 5.000e+00,\n        2.500e+01]])"
     },
     "execution_count": 241,
     "metadata": {},
     "output_type": "execute_result"
    }
   ],
   "source": [
    "poly = PolynomialFeatures(degree=2)\n",
    "X_poly2 = poly.fit_transform(X)\n",
    "X_poly2"
   ],
   "metadata": {
    "collapsed": false,
    "ExecuteTime": {
     "start_time": "2023-04-25T23:50:15.242499Z",
     "end_time": "2023-04-25T23:50:16.235971Z"
    }
   }
  },
  {
   "cell_type": "markdown",
   "source": [
    "### Train"
   ],
   "metadata": {
    "collapsed": false
   }
  },
  {
   "cell_type": "code",
   "execution_count": 242,
   "outputs": [
    {
     "data": {
      "text/plain": "LinearRegression()",
      "text/html": "<style>#sk-container-id-10 {color: black;background-color: white;}#sk-container-id-10 pre{padding: 0;}#sk-container-id-10 div.sk-toggleable {background-color: white;}#sk-container-id-10 label.sk-toggleable__label {cursor: pointer;display: block;width: 100%;margin-bottom: 0;padding: 0.3em;box-sizing: border-box;text-align: center;}#sk-container-id-10 label.sk-toggleable__label-arrow:before {content: \"▸\";float: left;margin-right: 0.25em;color: #696969;}#sk-container-id-10 label.sk-toggleable__label-arrow:hover:before {color: black;}#sk-container-id-10 div.sk-estimator:hover label.sk-toggleable__label-arrow:before {color: black;}#sk-container-id-10 div.sk-toggleable__content {max-height: 0;max-width: 0;overflow: hidden;text-align: left;background-color: #f0f8ff;}#sk-container-id-10 div.sk-toggleable__content pre {margin: 0.2em;color: black;border-radius: 0.25em;background-color: #f0f8ff;}#sk-container-id-10 input.sk-toggleable__control:checked~div.sk-toggleable__content {max-height: 200px;max-width: 100%;overflow: auto;}#sk-container-id-10 input.sk-toggleable__control:checked~label.sk-toggleable__label-arrow:before {content: \"▾\";}#sk-container-id-10 div.sk-estimator input.sk-toggleable__control:checked~label.sk-toggleable__label {background-color: #d4ebff;}#sk-container-id-10 div.sk-label input.sk-toggleable__control:checked~label.sk-toggleable__label {background-color: #d4ebff;}#sk-container-id-10 input.sk-hidden--visually {border: 0;clip: rect(1px 1px 1px 1px);clip: rect(1px, 1px, 1px, 1px);height: 1px;margin: -1px;overflow: hidden;padding: 0;position: absolute;width: 1px;}#sk-container-id-10 div.sk-estimator {font-family: monospace;background-color: #f0f8ff;border: 1px dotted black;border-radius: 0.25em;box-sizing: border-box;margin-bottom: 0.5em;}#sk-container-id-10 div.sk-estimator:hover {background-color: #d4ebff;}#sk-container-id-10 div.sk-parallel-item::after {content: \"\";width: 100%;border-bottom: 1px solid gray;flex-grow: 1;}#sk-container-id-10 div.sk-label:hover label.sk-toggleable__label {background-color: #d4ebff;}#sk-container-id-10 div.sk-serial::before {content: \"\";position: absolute;border-left: 1px solid gray;box-sizing: border-box;top: 0;bottom: 0;left: 50%;z-index: 0;}#sk-container-id-10 div.sk-serial {display: flex;flex-direction: column;align-items: center;background-color: white;padding-right: 0.2em;padding-left: 0.2em;position: relative;}#sk-container-id-10 div.sk-item {position: relative;z-index: 1;}#sk-container-id-10 div.sk-parallel {display: flex;align-items: stretch;justify-content: center;background-color: white;position: relative;}#sk-container-id-10 div.sk-item::before, #sk-container-id-10 div.sk-parallel-item::before {content: \"\";position: absolute;border-left: 1px solid gray;box-sizing: border-box;top: 0;bottom: 0;left: 50%;z-index: -1;}#sk-container-id-10 div.sk-parallel-item {display: flex;flex-direction: column;z-index: 1;position: relative;background-color: white;}#sk-container-id-10 div.sk-parallel-item:first-child::after {align-self: flex-end;width: 50%;}#sk-container-id-10 div.sk-parallel-item:last-child::after {align-self: flex-start;width: 50%;}#sk-container-id-10 div.sk-parallel-item:only-child::after {width: 0;}#sk-container-id-10 div.sk-dashed-wrapped {border: 1px dashed gray;margin: 0 0.4em 0.5em 0.4em;box-sizing: border-box;padding-bottom: 0.4em;background-color: white;}#sk-container-id-10 div.sk-label label {font-family: monospace;font-weight: bold;display: inline-block;line-height: 1.2em;}#sk-container-id-10 div.sk-label-container {text-align: center;}#sk-container-id-10 div.sk-container {/* jupyter's `normalize.less` sets `[hidden] { display: none; }` but bootstrap.min.css set `[hidden] { display: none !important; }` so we also need the `!important` here to be able to override the default hidden behavior on the sphinx rendered scikit-learn.org. See: https://github.com/scikit-learn/scikit-learn/issues/21755 */display: inline-block !important;position: relative;}#sk-container-id-10 div.sk-text-repr-fallback {display: none;}</style><div id=\"sk-container-id-10\" class=\"sk-top-container\"><div class=\"sk-text-repr-fallback\"><pre>LinearRegression()</pre><b>In a Jupyter environment, please rerun this cell to show the HTML representation or trust the notebook. <br />On GitHub, the HTML representation is unable to render, please try loading this page with nbviewer.org.</b></div><div class=\"sk-container\" hidden><div class=\"sk-item\"><div class=\"sk-estimator sk-toggleable\"><input class=\"sk-toggleable__control sk-hidden--visually\" id=\"sk-estimator-id-10\" type=\"checkbox\" checked><label for=\"sk-estimator-id-10\" class=\"sk-toggleable__label sk-toggleable__label-arrow\">LinearRegression</label><div class=\"sk-toggleable__content\"><pre>LinearRegression()</pre></div></div></div></div></div>"
     },
     "execution_count": 242,
     "metadata": {},
     "output_type": "execute_result"
    }
   ],
   "source": [
    "Model2 = LinearRegression()\n",
    "Model2.fit(X_poly2, y)"
   ],
   "metadata": {
    "collapsed": false,
    "ExecuteTime": {
     "start_time": "2023-04-25T23:50:15.334492Z",
     "end_time": "2023-04-25T23:50:16.685616Z"
    }
   }
  },
  {
   "cell_type": "markdown",
   "source": [
    "### Predict"
   ],
   "metadata": {
    "collapsed": false
   }
  },
  {
   "cell_type": "code",
   "execution_count": 243,
   "outputs": [
    {
     "data": {
      "text/plain": "array([23554.22436225, 19005.66785449, 14750.19522011, ...,\n        5485.14757475, 18257.14609358, 11133.96127516])"
     },
     "execution_count": 243,
     "metadata": {},
     "output_type": "execute_result"
    }
   ],
   "source": [
    "y_pred2 = Model2.predict(X_poly2)\n",
    "y_pred2"
   ],
   "metadata": {
    "collapsed": false,
    "ExecuteTime": {
     "start_time": "2023-04-25T23:50:15.791505Z",
     "end_time": "2023-04-25T23:50:16.686622Z"
    }
   }
  },
  {
   "cell_type": "markdown",
   "source": [
    "### R2 Score"
   ],
   "metadata": {
    "collapsed": false
   }
  },
  {
   "cell_type": "markdown",
   "source": [
    "## R2 Score"
   ],
   "metadata": {
    "collapsed": false
   }
  },
  {
   "cell_type": "code",
   "execution_count": 244,
   "outputs": [
    {
     "data": {
      "text/plain": "0.8230380150610741"
     },
     "execution_count": 244,
     "metadata": {},
     "output_type": "execute_result"
    }
   ],
   "source": [
    "r2_score(y, y_pred2)"
   ],
   "metadata": {
    "collapsed": false,
    "ExecuteTime": {
     "start_time": "2023-04-25T23:50:15.837509Z",
     "end_time": "2023-04-25T23:50:16.688616Z"
    }
   }
  },
  {
   "cell_type": "markdown",
   "source": [
    "## Mean Squared Error"
   ],
   "metadata": {
    "collapsed": false
   }
  },
  {
   "cell_type": "markdown",
   "source": [
    "## Mean Squared Error"
   ],
   "metadata": {
    "collapsed": false
   }
  },
  {
   "cell_type": "code",
   "execution_count": 245,
   "outputs": [
    {
     "data": {
      "text/plain": "15302034.138804073"
     },
     "execution_count": 245,
     "metadata": {},
     "output_type": "execute_result"
    }
   ],
   "source": [
    "mean_squared_error(y, y_pred2)"
   ],
   "metadata": {
    "collapsed": false,
    "ExecuteTime": {
     "start_time": "2023-04-25T23:50:15.870508Z",
     "end_time": "2023-04-25T23:50:16.688616Z"
    }
   }
  },
  {
   "cell_type": "markdown",
   "source": [
    "## Mean Absolute Error"
   ],
   "metadata": {
    "collapsed": false
   }
  },
  {
   "cell_type": "markdown",
   "source": [
    "## Mean Absolute Error"
   ],
   "metadata": {
    "collapsed": false
   }
  },
  {
   "cell_type": "code",
   "execution_count": 246,
   "outputs": [
    {
     "data": {
      "text/plain": "2571.6377748115933"
     },
     "execution_count": 246,
     "metadata": {},
     "output_type": "execute_result"
    }
   ],
   "source": [
    "mean_absolute_error(y, y_pred2)"
   ],
   "metadata": {
    "collapsed": false,
    "ExecuteTime": {
     "start_time": "2023-04-25T23:50:15.899503Z",
     "end_time": "2023-04-25T23:50:16.707605Z"
    }
   }
  },
  {
   "cell_type": "markdown",
   "source": [
    "## Degree 3"
   ],
   "metadata": {
    "collapsed": false
   }
  },
  {
   "cell_type": "code",
   "execution_count": 247,
   "outputs": [
    {
     "data": {
      "text/plain": "array([[1.000e+00, 1.210e+02, 2.015e+03, ..., 5.400e+01, 1.080e+02,\n        2.160e+02],\n       [1.000e+00, 2.000e+01, 2.017e+03, ..., 1.620e+01, 4.500e+01,\n        1.250e+02],\n       [1.000e+00, 6.700e+01, 2.018e+03, ..., 9.000e+00, 2.400e+01,\n        6.400e+01],\n       ...,\n       [1.000e+00, 4.200e+01, 2.014e+03, ..., 1.000e+00, 1.000e+00,\n        1.000e+00],\n       [1.000e+00, 8.700e+01, 2.016e+03, ..., 1.200e+01, 1.800e+01,\n        2.700e+01],\n       [1.000e+00, 2.200e+01, 2.018e+03, ..., 5.000e+00, 2.500e+01,\n        1.250e+02]])"
     },
     "execution_count": 247,
     "metadata": {},
     "output_type": "execute_result"
    }
   ],
   "source": [
    "poly = PolynomialFeatures(degree=3)\n",
    "X_poly3 = poly.fit_transform(X)\n",
    "X_poly3"
   ],
   "metadata": {
    "collapsed": false,
    "ExecuteTime": {
     "start_time": "2023-04-25T23:50:15.928507Z",
     "end_time": "2023-04-25T23:50:16.711606Z"
    }
   }
  },
  {
   "cell_type": "markdown",
   "source": [
    "### Train"
   ],
   "metadata": {
    "collapsed": false
   }
  },
  {
   "cell_type": "code",
   "execution_count": 248,
   "outputs": [
    {
     "data": {
      "text/plain": "LinearRegression()",
      "text/html": "<style>#sk-container-id-11 {color: black;background-color: white;}#sk-container-id-11 pre{padding: 0;}#sk-container-id-11 div.sk-toggleable {background-color: white;}#sk-container-id-11 label.sk-toggleable__label {cursor: pointer;display: block;width: 100%;margin-bottom: 0;padding: 0.3em;box-sizing: border-box;text-align: center;}#sk-container-id-11 label.sk-toggleable__label-arrow:before {content: \"▸\";float: left;margin-right: 0.25em;color: #696969;}#sk-container-id-11 label.sk-toggleable__label-arrow:hover:before {color: black;}#sk-container-id-11 div.sk-estimator:hover label.sk-toggleable__label-arrow:before {color: black;}#sk-container-id-11 div.sk-toggleable__content {max-height: 0;max-width: 0;overflow: hidden;text-align: left;background-color: #f0f8ff;}#sk-container-id-11 div.sk-toggleable__content pre {margin: 0.2em;color: black;border-radius: 0.25em;background-color: #f0f8ff;}#sk-container-id-11 input.sk-toggleable__control:checked~div.sk-toggleable__content {max-height: 200px;max-width: 100%;overflow: auto;}#sk-container-id-11 input.sk-toggleable__control:checked~label.sk-toggleable__label-arrow:before {content: \"▾\";}#sk-container-id-11 div.sk-estimator input.sk-toggleable__control:checked~label.sk-toggleable__label {background-color: #d4ebff;}#sk-container-id-11 div.sk-label input.sk-toggleable__control:checked~label.sk-toggleable__label {background-color: #d4ebff;}#sk-container-id-11 input.sk-hidden--visually {border: 0;clip: rect(1px 1px 1px 1px);clip: rect(1px, 1px, 1px, 1px);height: 1px;margin: -1px;overflow: hidden;padding: 0;position: absolute;width: 1px;}#sk-container-id-11 div.sk-estimator {font-family: monospace;background-color: #f0f8ff;border: 1px dotted black;border-radius: 0.25em;box-sizing: border-box;margin-bottom: 0.5em;}#sk-container-id-11 div.sk-estimator:hover {background-color: #d4ebff;}#sk-container-id-11 div.sk-parallel-item::after {content: \"\";width: 100%;border-bottom: 1px solid gray;flex-grow: 1;}#sk-container-id-11 div.sk-label:hover label.sk-toggleable__label {background-color: #d4ebff;}#sk-container-id-11 div.sk-serial::before {content: \"\";position: absolute;border-left: 1px solid gray;box-sizing: border-box;top: 0;bottom: 0;left: 50%;z-index: 0;}#sk-container-id-11 div.sk-serial {display: flex;flex-direction: column;align-items: center;background-color: white;padding-right: 0.2em;padding-left: 0.2em;position: relative;}#sk-container-id-11 div.sk-item {position: relative;z-index: 1;}#sk-container-id-11 div.sk-parallel {display: flex;align-items: stretch;justify-content: center;background-color: white;position: relative;}#sk-container-id-11 div.sk-item::before, #sk-container-id-11 div.sk-parallel-item::before {content: \"\";position: absolute;border-left: 1px solid gray;box-sizing: border-box;top: 0;bottom: 0;left: 50%;z-index: -1;}#sk-container-id-11 div.sk-parallel-item {display: flex;flex-direction: column;z-index: 1;position: relative;background-color: white;}#sk-container-id-11 div.sk-parallel-item:first-child::after {align-self: flex-end;width: 50%;}#sk-container-id-11 div.sk-parallel-item:last-child::after {align-self: flex-start;width: 50%;}#sk-container-id-11 div.sk-parallel-item:only-child::after {width: 0;}#sk-container-id-11 div.sk-dashed-wrapped {border: 1px dashed gray;margin: 0 0.4em 0.5em 0.4em;box-sizing: border-box;padding-bottom: 0.4em;background-color: white;}#sk-container-id-11 div.sk-label label {font-family: monospace;font-weight: bold;display: inline-block;line-height: 1.2em;}#sk-container-id-11 div.sk-label-container {text-align: center;}#sk-container-id-11 div.sk-container {/* jupyter's `normalize.less` sets `[hidden] { display: none; }` but bootstrap.min.css set `[hidden] { display: none !important; }` so we also need the `!important` here to be able to override the default hidden behavior on the sphinx rendered scikit-learn.org. See: https://github.com/scikit-learn/scikit-learn/issues/21755 */display: inline-block !important;position: relative;}#sk-container-id-11 div.sk-text-repr-fallback {display: none;}</style><div id=\"sk-container-id-11\" class=\"sk-top-container\"><div class=\"sk-text-repr-fallback\"><pre>LinearRegression()</pre><b>In a Jupyter environment, please rerun this cell to show the HTML representation or trust the notebook. <br />On GitHub, the HTML representation is unable to render, please try loading this page with nbviewer.org.</b></div><div class=\"sk-container\" hidden><div class=\"sk-item\"><div class=\"sk-estimator sk-toggleable\"><input class=\"sk-toggleable__control sk-hidden--visually\" id=\"sk-estimator-id-11\" type=\"checkbox\" checked><label for=\"sk-estimator-id-11\" class=\"sk-toggleable__label sk-toggleable__label-arrow\">LinearRegression</label><div class=\"sk-toggleable__content\"><pre>LinearRegression()</pre></div></div></div></div></div>"
     },
     "execution_count": 248,
     "metadata": {},
     "output_type": "execute_result"
    }
   ],
   "source": [
    "Model3 = LinearRegression()\n",
    "Model3.fit(X_poly3, y)"
   ],
   "metadata": {
    "collapsed": false,
    "ExecuteTime": {
     "start_time": "2023-04-25T23:50:16.192884Z",
     "end_time": "2023-04-25T23:50:19.248407Z"
    }
   }
  },
  {
   "cell_type": "markdown",
   "source": [
    "### Predict"
   ],
   "metadata": {
    "collapsed": false
   }
  },
  {
   "cell_type": "code",
   "execution_count": 249,
   "outputs": [
    {
     "data": {
      "text/plain": "array([18974.77437401, 17633.90646935, 14549.24108696, ...,\n        7083.87786674, 17870.24549103,  8668.65025902])"
     },
     "execution_count": 249,
     "metadata": {},
     "output_type": "execute_result"
    }
   ],
   "source": [
    "y_pred3 = Model3.predict(X_poly3)\n",
    "y_pred3"
   ],
   "metadata": {
    "collapsed": false,
    "ExecuteTime": {
     "start_time": "2023-04-25T23:50:18.833893Z",
     "end_time": "2023-04-25T23:50:19.248407Z"
    }
   }
  },
  {
   "cell_type": "markdown",
   "source": [
    "### R2 Score"
   ],
   "metadata": {
    "collapsed": false
   }
  },
  {
   "cell_type": "code",
   "execution_count": 250,
   "outputs": [
    {
     "data": {
      "text/plain": "0.876812171633266"
     },
     "execution_count": 250,
     "metadata": {},
     "output_type": "execute_result"
    }
   ],
   "source": [
    "r2_score(y, y_pred3)"
   ],
   "metadata": {
    "collapsed": false,
    "ExecuteTime": {
     "start_time": "2023-04-25T23:50:18.904890Z",
     "end_time": "2023-04-25T23:50:19.249414Z"
    }
   }
  },
  {
   "cell_type": "markdown",
   "source": [
    "### Mean Squared Error"
   ],
   "metadata": {
    "collapsed": false
   }
  },
  {
   "cell_type": "code",
   "execution_count": 251,
   "outputs": [
    {
     "data": {
      "text/plain": "10652142.920997813"
     },
     "execution_count": 251,
     "metadata": {},
     "output_type": "execute_result"
    }
   ],
   "source": [
    "mean_squared_error(y, y_pred3)"
   ],
   "metadata": {
    "collapsed": false,
    "ExecuteTime": {
     "start_time": "2023-04-25T23:50:18.934889Z",
     "end_time": "2023-04-25T23:50:19.250413Z"
    }
   }
  },
  {
   "cell_type": "markdown",
   "source": [
    "### Mean Absolute Error"
   ],
   "metadata": {
    "collapsed": false
   }
  },
  {
   "cell_type": "code",
   "execution_count": 252,
   "outputs": [
    {
     "data": {
      "text/plain": "2148.1876954685163"
     },
     "execution_count": 252,
     "metadata": {},
     "output_type": "execute_result"
    }
   ],
   "source": [
    "mean_absolute_error(y, y_pred3)"
   ],
   "metadata": {
    "collapsed": false,
    "ExecuteTime": {
     "start_time": "2023-04-25T23:50:18.963889Z",
     "end_time": "2023-04-25T23:50:19.252415Z"
    }
   }
  }
 ],
 "metadata": {
  "kernelspec": {
   "display_name": "Python 3",
   "language": "python",
   "name": "python3"
  },
  "language_info": {
   "codemirror_mode": {
    "name": "ipython",
    "version": 3
   },
   "file_extension": ".py",
   "mimetype": "text/x-python",
   "name": "python",
   "nbconvert_exporter": "python",
   "pygments_lexer": "ipython3",
   "version": "3.10.11"
  }
 },
 "nbformat": 4,
 "nbformat_minor": 4
}
